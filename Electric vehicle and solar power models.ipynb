{
 "cells": [
  {
   "cell_type": "code",
   "execution_count": 6,
   "metadata": {
    "collapsed": true
   },
   "outputs": [],
   "source": [
    "import numpy as np\n",
    "import datetime\n",
    "import matplotlib.pyplot as plt\n",
    "%matplotlib inline"
   ]
  },
  {
   "cell_type": "code",
   "execution_count": 27,
   "metadata": {
    "collapsed": true
   },
   "outputs": [],
   "source": [
    "class vehicle_ice:\n",
    "    def __init__(self, name, mpg_hwy, mpg_city, average_override=None):\n",
    "        self.mpg_hwy = mpg_hwy\n",
    "        self.mpg_city = mpg_city\n",
    "        self.name = name\n",
    "        if average_override != None:\n",
    "            self.mpg_hwy = average_override\n",
    "            self.mpg_city = average_override\n",
    "        \n",
    "    def get_ave_mpg(self, fract_hwy=.50):\n",
    "        return fract_hwy*self.mpg_hwy + (1-fract_hwy)*self.mpg_city\n",
    "    \n",
    "    \n",
    "class vehicle_ev:\n",
    "    def __init__(self, name, kwh_per_mile):\n",
    "        self.kwh_per_mile = kwh_per_mile\n",
    "        \n",
    "    \n",
    "class vehicle_usage:\n",
    "    def __init__(self, miles_per_month, fract_hwy):\n",
    "        self.miles_per_month = miles_per_month\n",
    "        self.fract_hwy = fract_hwy\n",
    "\n",
    "        \n",
    "class elect_tier:\n",
    "    def __init__(self, start_time, end_time, dollars_per_kwh):\n",
    "        self.start = start_time\n",
    "        self.end_time = end_time\n",
    "        self.dollars_per_kwh = dollars_per_kwh\n",
    "        \n",
    "        \n",
    "class elect_rates:\n",
    "    def __init__(self):\n",
    "        self.tiers = list()\n",
    "    \n",
    "    def add_tier(self, start_time, end_time, dollars_per_kwh):\n",
    "        self.tiers.append( elect_tier(start_time,end_time, dollars_per_kwh) )\n",
    "        \n",
    "    def get_ave_rate(self):\n",
    "        \n",
    "        # TODO: Do the actual average based on usage\n",
    "        return self.tiers[0].dollars_per_kwh\n",
    "        \n",
    "        \n",
    "def gas_costs_per_month( miles_per_month, gas_dollars_per_gal, miles_per_gallon ):\n",
    "    ## TODO: generalize so any input parameter can be a vector, and all combos are explored\n",
    "    ## pass in: \n",
    "    ##   miles_per_month, miles_per_gallon: real number\n",
    "    ##   numpy arrays, \n",
    "    ## Return: generate an ndarray\n",
    "    ##\n",
    "    dollars_per_month = miles_per_month * gas_dollars_per_gal * (1.0/miles_per_gallon)\n",
    "    return dollars_per_month\n",
    "\n",
    "def electr_cost_per_month( miles_per_month, ave_dollars_per_kwh, kwh_per_mile ):\n",
    "    dollars_per_month = miles_per_month * ave_dollars_per_kwh * kwh_per_mile\n",
    "    return dollars_per_month"
   ]
  },
  {
   "cell_type": "code",
   "execution_count": 28,
   "metadata": {
    "collapsed": false
   },
   "outputs": [],
   "source": [
    "gas_costs = np.linspace(2.00, 5.00, 10)\n",
    "\n",
    "erates = elect_rates()\n",
    "erates.add_tier(datetime.time(0), datetime.time(5), 0.17)\n",
    "\n",
    "miles_per_month = 15000.0/12.0\n",
    "\n",
    "## Cars\n",
    "volt = vehicle_ev(\"Volt 2016\", 0.37)\n",
    "grand_vitara = vehicle_ice(\"grand vitara\", 19, 23, average_override=21)\n",
    "mazda_3 = vehicle_ice(\"Mazda 3 2.5l\", 28, 39 )"
   ]
  },
  {
   "cell_type": "code",
   "execution_count": 29,
   "metadata": {
    "collapsed": false
   },
   "outputs": [
    {
     "data": {
      "image/png": "[encoded data removed]",
      "text/plain": [
       "<matplotlib.figure.Figure at 0x108e22b90>"
      ]
     },
     "metadata": {},
     "output_type": "display_data"
    }
   ],
   "source": [
    "gv_costs_monthly = gas_costs_per_month( miles_per_month, gas_costs, grand_vitara.get_ave_mpg() )\n",
    "mazda_costs_monthly = gas_costs_per_month( miles_per_month, gas_costs, mazda_3.get_ave_mpg() )\n",
    "volt_costs_monthly = electr_cost_per_month( miles_per_month, erates.get_ave_rate(), volt.kwh_per_mile )\n",
    "plt.plot(gas_costs, gv_costs_monthly)\n",
    "plt.plot(gas_costs, mazda_costs_monthly)\n",
    "plt.plot(gas_costs, [volt_costs_monthly]*gas_costs.shape[0] )\n",
    "plt.xlabel(\"Fuel $/gal\")\n",
    "plt.ylabel(\"monthly $: miles/month=\"+str(miles_per_month))\n",
    "plt.show()"
   ]
  }
 ],
 "metadata": {
  "kernelspec": {
   "display_name": "Python 2",
   "language": "python",
   "name": "python2"
  },
  "language_info": {
   "codemirror_mode": {
    "name": "ipython",
    "version": 2
   },
   "file_extension": ".py",
   "mimetype": "text/x-python",
   "name": "python",
   "nbconvert_exporter": "python",
   "pygments_lexer": "ipython2",
   "version": "2.7.9"
  }
 },
 "nbformat": 4,
 "nbformat_minor": 0
}
