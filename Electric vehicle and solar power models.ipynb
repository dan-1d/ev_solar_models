{
 "cells": [
  {
   "cell_type": "code",
   "execution_count": 13,
   "metadata": {
    "collapsed": true
   },
   "outputs": [],
   "source": [
    "import numpy as np\n",
    "import datetime\n",
    "import matplotlib as plt"
   ]
  },
  {
   "cell_type": "code",
   "execution_count": 9,
   "metadata": {
    "collapsed": true
   },
   "outputs": [],
   "source": [
    "class vehicle_ice:\n",
    "    def __init__(self, name, mpg_hwy, mpg_city, average_override=None):\n",
    "        self.mpg_hwy = mpg_hwy\n",
    "        self.mpg_city = mpg_city\n",
    "        self.name = name\n",
    "        if average_override != None:\n",
    "            self.mpg_hwy = average_override\n",
    "            self.mpg_city = average_override\n",
    "        \n",
    "    def get_ave_mpg(fract_hwy=.50):\n",
    "        return fract_hwy*self.mpg_hwy + (1-fract_hwy)*self.mpg_city\n",
    "    \n",
    "    \n",
    "class vehicle_ev:\n",
    "    def __init__(self, name, kwh_per_mile):\n",
    "        self.kwh_per_mile = kwh_per_mile\n",
    "        \n",
    "    \n",
    "class vehicle_usage:\n",
    "    def __init__(self, miles_per_month, fract_hwy):\n",
    "        self.miles_per_month = miles_per_month\n",
    "        self.fract_hwy = fract_hwy\n",
    "\n",
    "        \n",
    "class elect_tier:\n",
    "    def __init__(self, start_time, end_time, dollars_per_kwh):\n",
    "        self.start = start_time\n",
    "        self.end_time = end_time\n",
    "        self.dollars_per_kwh = dollars_per_kwh\n",
    "        \n",
    "        \n",
    "class elect_rates:\n",
    "    def __init__(self):\n",
    "        self.tiers = list()\n",
    "    \n",
    "    def add_tier(self, start_time, end_time, dollars_per_kwh):\n",
    "        self.tiers.append( elect_tier(start_time,end_time, dollars_per_kwh) )"
   ]
  },
  {
   "cell_type": "code",
   "execution_count": 12,
   "metadata": {
    "collapsed": false
   },
   "outputs": [],
   "source": [
    "gas_costs = np.linspace(2.00, 5.00, 10)\n",
    "\n",
    "erates = elect_rates()\n",
    "erates.add_tier(datetime.time(0), datetime.time(5), 0.17)\n",
    "\n",
    "miles_per_month = 15000.0/12.0\n",
    "\n",
    "## Cars\n",
    "volt = vehicle_ev(\"Volt 2016\", 0.37)\n",
    "grand_vitara = vehicle_ice(\"grand vitara\", 19, 23, average_override=21)\n",
    "mazda_3 = vehicle_ice(\"Mazda 3 2.5l\", 28, 39 )"
   ]
  },
  {
   "cell_type": "code",
   "execution_count": 15,
   "metadata": {
    "collapsed": false
   },
   "outputs": [
    {
     "ename": "NameError",
     "evalue": "name 'plt' is not defined",
     "output_type": "error",
     "traceback": [
      "\u001b[1;31m---------------------------------------------------------------------------\u001b[0m",
      "\u001b[1;31mNameError\u001b[0m                                 Traceback (most recent call last)",
      "\u001b[1;32m<ipython-input-15-9be4dfc7f42a>\u001b[0m in \u001b[0;36m<module>\u001b[1;34m()\u001b[0m\n\u001b[1;32m----> 1\u001b[1;33m \u001b[0mplt\u001b[0m\u001b[1;33m.\u001b[0m\u001b[0mplt\u001b[0m\u001b[1;33m\u001b[0m\u001b[0m\n\u001b[0m",
      "\u001b[1;31mNameError\u001b[0m: name 'plt' is not defined"
     ]
    }
   ],
   "source": [
    "plt."
   ]
  },
  {
   "cell_type": "code",
   "execution_count": null,
   "metadata": {
    "collapsed": true
   },
   "outputs": [],
   "source": []
  }
 ],
 "metadata": {
  "kernelspec": {
   "display_name": "Python 2",
   "language": "python",
   "name": "python2"
  },
  "language_info": {
   "codemirror_mode": {
    "name": "ipython",
    "version": 2
   },
   "file_extension": ".py",
   "mimetype": "text/x-python",
   "name": "python",
   "nbconvert_exporter": "python",
   "pygments_lexer": "ipython2",
   "version": "2.7.9"
  }
 },
 "nbformat": 4,
 "nbformat_minor": 0
}
