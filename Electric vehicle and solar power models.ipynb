{
 "cells": [
  {
   "cell_type": "code",
   "execution_count": 19,
   "metadata": {
    "collapsed": true
   },
   "outputs": [],
   "source": [
    "import numpy as np\n",
    "import pandas as pd\n",
    "import datetime\n",
    "import matplotlib.pyplot as plt\n",
    "import electric_rates as erates\n",
    "%matplotlib inline"
   ]
  },
  {
   "cell_type": "code",
   "execution_count": 18,
   "metadata": {
    "collapsed": false
   },
   "outputs": [],
   "source": [
    "class vehicle_ice:\n",
    "    def __init__(self, name, mpg_hwy, mpg_city, average_override=None):\n",
    "        self.mpg_hwy = mpg_hwy\n",
    "        self.mpg_city = mpg_city\n",
    "        self.name = name\n",
    "        if average_override != None:\n",
    "            self.mpg_hwy = average_override\n",
    "            self.mpg_city = average_override\n",
    "        \n",
    "    def get_ave_mpg(self, fract_hwy=.50):\n",
    "        return fract_hwy*self.mpg_hwy + (1-fract_hwy)*self.mpg_city\n",
    "    \n",
    "    \n",
    "class vehicle_ev:\n",
    "    def __init__(self, name, kwh_per_mile):\n",
    "        self.kwh_per_mile = kwh_per_mile\n",
    "        \n",
    "    \n",
    "class vehicle_usage:\n",
    "    def __init__(self, miles_per_month, fract_hwy):\n",
    "        self.miles_per_month = miles_per_month\n",
    "        self.fract_hwy = fract_hwy\n",
    "\n",
    "        \n",
    "def gas_costs_per_month( miles_per_month, gas_dollars_per_gal, miles_per_gallon ):\n",
    "    ## TODO: generalize so any input parameter can be a vector, and all combos are explored\n",
    "    ## pass in: \n",
    "    ##   miles_per_month, miles_per_gallon: real number\n",
    "    ##   numpy arrays, \n",
    "    ## Return: generate an ndarray\n",
    "    ##\n",
    "    dollars_per_month = miles_per_month * gas_dollars_per_gal * (1.0/miles_per_gallon)\n",
    "    return dollars_per_month\n",
    "\n",
    "def electr_cost_per_month( miles_per_month, ave_dollars_per_kwh, kwh_per_mile ):\n",
    "    dollars_per_month = miles_per_month * ave_dollars_per_kwh * kwh_per_mile\n",
    "    return dollars_per_month"
   ]
  },
  {
   "cell_type": "code",
   "execution_count": 8,
   "metadata": {
    "collapsed": false
   },
   "outputs": [],
   "source": [
    "gas_costs = np.linspace(2.00, 5.00, 10)\n",
    "\n",
    "erates = elect_rates()\n",
    "erates.add_tier(datetime.time(0), datetime.time(5), 0.17)\n",
    "\n",
    "\n",
    "miles_per_month = 15000.0/12.0\n",
    "\n",
    "## Cars\n",
    "volt = vehicle_ev(\"Volt 2016\", 0.37)\n",
    "grand_vitara = vehicle_ice(\"grand vitara\", 19, 23, average_override=21)\n",
    "mazda_3 = vehicle_ice(\"Mazda 3 2.5l\", 28, 39 )\n",
    "sienna = vehicle_ice(\"Sienna\", 19,25)\n",
    "gti = vehicle_ice( \"GTI\", 25,33 )"
   ]
  },
  {
   "cell_type": "code",
   "execution_count": 9,
   "metadata": {
    "collapsed": false
   },
   "outputs": [
    {
     "data": {
      "image/png": "[encoded data removed]",
      "text/plain": [
       "<matplotlib.figure.Figure at 0x1089f32d0>"
      ]
     },
     "metadata": {},
     "output_type": "display_data"
    }
   ],
   "source": [
    "gv_costs_monthly = gas_costs_per_month( miles_per_month, gas_costs, grand_vitara.get_ave_mpg() )\n",
    "mazda_costs_monthly = gas_costs_per_month( miles_per_month, gas_costs, mazda_3.get_ave_mpg() )\n",
    "sienna_costs_monthly = gas_costs_per_month( miles_per_month, gas_costs, sienna.get_ave_mpg() )\n",
    "gti_costs_monthly = gas_costs_per_month( miles_per_month, gas_costs, gti.get_ave_mpg() )\n",
    "volt_costs_monthly = electr_cost_per_month( miles_per_month, erates.get_ave_rate(), volt.kwh_per_mile )\n",
    "plt.plot(gas_costs, gv_costs_monthly, label=\"Grand Vitara\")\n",
    "plt.plot(gas_costs, sienna_costs_monthly, label=\"Sienna\")\n",
    "plt.plot(gas_costs, gti_costs_monthly, label=\"GTI\")\n",
    "plt.plot(gas_costs, mazda_costs_monthly, label=\"Mazda 3\")\n",
    "plt.plot(gas_costs, [volt_costs_monthly]*gas_costs.shape[0], label=\"Volt\" )\n",
    "plt.xlabel(\"Fuel $/gal\")\n",
    "plt.ylabel(\"monthly $: miles/month=\"+str(miles_per_month))\n",
    "plt.legend()\n",
    "plt.grid()\n",
    "plt.show()"
   ]
  },
  {
   "cell_type": "code",
   "execution_count": 10,
   "metadata": {
    "collapsed": true
   },
   "outputs": [],
   "source": []
  },
  {
   "cell_type": "code",
   "execution_count": 11,
   "metadata": {
    "collapsed": true
   },
   "outputs": [],
   "source": [
    "e_daily = pd.read_csv(\"electric-usage--raw.csv\")"
   ]
  },
  {
   "cell_type": "code",
   "execution_count": 13,
   "metadata": {
    "collapsed": false
   },
   "outputs": [
    {
     "data": {
      "text/plain": [
       "0       0.265\n",
       "1       0.195\n",
       "2       0.180\n",
       "3       0.275\n",
       "4       0.200\n",
       "5       0.220\n",
       "6       0.170\n",
       "7       0.170\n",
       "8       0.170\n",
       "9       0.170\n",
       "10      0.315\n",
       "11      0.435\n",
       "12      2.840\n",
       "13      0.385\n",
       "14      0.245\n",
       "15      0.290\n",
       "16      0.275\n",
       "17      0.190\n",
       "18      0.215\n",
       "19      0.175\n",
       "20      0.185\n",
       "21      0.195\n",
       "22      0.260\n",
       "23      0.270\n",
       "24      0.305\n",
       "25      0.280\n",
       "26      0.270\n",
       "27      0.290\n",
       "28      0.275\n",
       "29      0.270\n",
       "        ...  \n",
       "9498    2.260\n",
       "9499    0.290\n",
       "9500    0.285\n",
       "9501    0.250\n",
       "9502    1.570\n",
       "9503    1.420\n",
       "9504    0.275\n",
       "9505    0.260\n",
       "9506    0.255\n",
       "9507    0.275\n",
       "9508    0.270\n",
       "9509    0.260\n",
       "9510    0.235\n",
       "9511    0.495\n",
       "9512    0.275\n",
       "9513    0.320\n",
       "9514    0.205\n",
       "9515    0.195\n",
       "9516    0.560\n",
       "9517    1.105\n",
       "9518    1.060\n",
       "9519    1.320\n",
       "9520    1.360\n",
       "9521    1.220\n",
       "9522    0.980\n",
       "9523    0.455\n",
       "9524    1.460\n",
       "9525    0.655\n",
       "9526    0.545\n",
       "9527    0.255\n",
       "Name: Value, dtype: float64"
      ]
     },
     "execution_count": 13,
     "metadata": {},
     "output_type": "execute_result"
    }
   ],
   "source": []
  },
  {
   "cell_type": "code",
   "execution_count": null,
   "metadata": {
    "collapsed": true
   },
   "outputs": [],
   "source": []
  }
 ],
 "metadata": {
  "kernelspec": {
   "display_name": "Python 2",
   "language": "python",
   "name": "python2"
  },
  "language_info": {
   "codemirror_mode": {
    "name": "ipython",
    "version": 2
   },
   "file_extension": ".py",
   "mimetype": "text/x-python",
   "name": "python",
   "nbconvert_exporter": "python",
   "pygments_lexer": "ipython2",
   "version": "2.7.9"
  }
 },
 "nbformat": 4,
 "nbformat_minor": 0
}
